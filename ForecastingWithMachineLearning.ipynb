{
 "cells": [
  {
   "cell_type": "code",
   "execution_count": 1,
   "metadata": {},
   "outputs": [],
   "source": [
    "import numpy as np\n",
    "import pandas as pd"
   ]
  },
  {
   "cell_type": "code",
   "execution_count": 3,
   "metadata": {},
   "outputs": [],
   "source": [
    "N = 20\n",
    "ts = pd.Series(\n",
    "    np.arange(N),\n",
    "    index=pd.period_range(start='2020', freq='A', periods=N, name='Year'),\n",
    "    dtype=pd.Int8Dtype,\n",
    ")"
   ]
  },
  {
   "cell_type": "code",
   "execution_count": 7,
   "metadata": {},
   "outputs": [],
   "source": [
    "X = pd.DataFrame({\n",
    "    \"y_lag_2\": ts.shift(2),\n",
    "    \"y_lag_3\": ts.shift(3),\n",
    "    \"y_lag_4\": ts.shift(4),\n",
    "    \"y_lag_5\": ts.shift(5),\n",
    "    \"y_lag_6\": ts.shift(6)\n",
    "})\n",
    "\n",
    "y = pd.DataFrame({\n",
    "    \"y_step_3\": ts.shift(-2),\n",
    "    \"y_step_2\": ts.shift(-1),\n",
    "    \"y_step_1\": ts,\n",
    "})\n",
    "\n",
    "data = pd.concat({\"Targets\": y, \"Features\": X}, axis=1)\n",
    "\n",
    "# Style\n",
    "data.head(10).style.set_properties(['Targets'], **{'background-color': 'LavenderBlush'}) \\\n",
    "                   .set_properties(['Features'], **{'background-color': 'Lavender'})"
   ]
  }
 ],
 "metadata": {
  "kernelspec": {
   "display_name": "data",
   "language": "python",
   "name": "python3"
  },
  "language_info": {
   "codemirror_mode": {
    "name": "ipython",
    "version": 3
   },
   "file_extension": ".py",
   "mimetype": "text/x-python",
   "name": "python",
   "nbconvert_exporter": "python",
   "pygments_lexer": "ipython3",
   "version": "3.10.13"
  },
  "orig_nbformat": 4
 },
 "nbformat": 4,
 "nbformat_minor": 2
}
